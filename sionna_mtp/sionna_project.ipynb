{
 "cells": [
  {
   "cell_type": "code",
   "execution_count": 118,
   "id": "initial_id",
   "metadata": {
    "ExecuteTime": {
     "end_time": "2024-08-12T11:50:19.503827Z",
     "start_time": "2024-08-12T11:50:17.531578Z"
    }
   },
   "outputs": [],
   "source": [
    "import numpy as np\n",
    "from sionna.rt import load_scene, PlanarArray, Transmitter, Camera, Receiver, RadioMaterial\n",
    "import csv"
   ]
  },
  {
   "cell_type": "code",
   "execution_count": 119,
   "id": "980bb501-f511-4f96-a054-96f283533a30",
   "metadata": {},
   "outputs": [],
   "source": [
    "import matplotlib.pyplot as plt"
   ]
  },
  {
   "cell_type": "code",
   "execution_count": 120,
   "id": "d42186cf-f2a3-4900-9cd3-10edd745dccc",
   "metadata": {},
   "outputs": [],
   "source": [
    "colab_compat = False\n",
    "try:\n",
    "    import google.colab\n",
    "    colab_compat = True\n",
    "except:\n",
    "    colab_compat = False\n",
    "    "
   ]
  },
  {
   "cell_type": "code",
   "execution_count": 121,
   "id": "f2c051e0fbf31018",
   "metadata": {
    "ExecuteTime": {
     "end_time": "2024-08-12T11:50:24.695084Z",
     "start_time": "2024-08-12T11:50:24.683365Z"
    }
   },
   "outputs": [],
   "source": [
    "# By default there are some scenes available in the sionna \n",
    "# they can be loaded as - sionna.rt.scene.etiole\n",
    "scene = load_scene(\"without_leather/modifiedv2_without_leather.xml\")"
   ]
  },
  {
   "cell_type": "code",
   "execution_count": 122,
   "id": "1af6950f-ce44-421b-bfcc-9ce224d18331",
   "metadata": {},
   "outputs": [],
   "source": [
    "def addCamera(position,look_at,name):\n",
    "    my_cam = Camera(name, position = position, look_at = look_at)\n",
    "    return my_cam"
   ]
  },
  {
   "cell_type": "code",
   "execution_count": 123,
   "id": "5fc68842-0191-474a-a2c8-b18402b3aad2",
   "metadata": {},
   "outputs": [],
   "source": [
    "def addPlanarArray(rows, cols, v_spacing = 0.5, h_spacing = 0.7, patt = \"tr38901\", polarization = \"V\"):\n",
    "    return PlanarArray(num_rows = rows,\n",
    "                      num_cols = cols,\n",
    "                      vertical_spacing=v_spacing,\n",
    "                      horizontal_spacing=h_spacing,\n",
    "                      pattern=patt,\n",
    "                      polarization=polarization)\n"
   ]
  },
  {
   "cell_type": "code",
   "execution_count": 124,
   "id": "8dd35088-899e-4f14-8247-c7416dfa28cf",
   "metadata": {},
   "outputs": [
    {
     "name": "stdout",
     "output_type": "stream",
     "text": [
      "{'scene-cam-0': <sionna.rt.camera.Camera object at 0x7786687efbd0>}\n"
     ]
    }
   ],
   "source": [
    "# we can print available cameras for the scenes \n",
    "# These cameras are added when this scene was created in the blender or in any other software\n",
    "# We can add our own camera in sionna for that we need its location and where it is looking at both coordinates are needed\n",
    "# To add anything in the scene use scene.add(var_name)\n",
    "print(scene.cameras)"
   ]
  },
  {
   "cell_type": "code",
   "execution_count": null,
   "id": "deadc32d8b74d6",
   "metadata": {},
   "outputs": [],
   "source": [
    "if colab_compat:\n",
    "    scene.render(camera='scene-cam-0')\n",
    "scene.preview()"
   ]
  },
  {
   "cell_type": "code",
   "execution_count": 126,
   "id": "5b1535702a794806",
   "metadata": {
    "ExecuteTime": {
     "end_time": "2024-08-12T11:00:46.434704Z",
     "start_time": "2024-08-12T11:00:46.427961Z"
    }
   },
   "outputs": [
    {
     "name": "stdout",
     "output_type": "stream",
     "text": [
      "[['Cube', 'itu_wood'], ['Cube_1', 'itu_wood'], ['TV', 'itu_glass'], ['W_rfel', 'itu_glass'], ['W_rfel_1', 'itu_glass'], ['W_rfel_2', 'itu_glass'], ['W_rfel_10', 'itu_glass']]\n"
     ]
    }
   ],
   "source": [
    "# Listing all the objects and their materials \n",
    "objects = []\n",
    "for i , obj in enumerate(scene.objects.values()):\n",
    "    objects.append([obj.name,obj.radio_material.name])\n",
    "print(objects[:7])\n",
    "for name, material in objects:\n",
    "    if(material == 'rubber'):\n",
    "        print(f\"rubber is available for {name} object\")"
   ]
  },
  {
   "cell_type": "code",
   "execution_count": 127,
   "id": "7e6a3584778d46dc",
   "metadata": {},
   "outputs": [],
   "source": [
    "# configure antenna array for all transmitters\n",
    "scene.tx_array = addPlanarArray(2,2)\n",
    "# configure antenna array for all receivers\n",
    "scene.rx_array = addPlanarArray(1,1,0.5,0.5,\"dipole\",\"cross\")"
   ]
  },
  {
   "cell_type": "code",
   "execution_count": null,
   "id": "01f5d8a2-5b2a-4173-b955-5c608346f735",
   "metadata": {},
   "outputs": [],
   "source": [
    "print(scene.tx_array.show())\n",
    "print(scene.rx_array.show())"
   ]
  },
  {
   "cell_type": "code",
   "execution_count": 129,
   "id": "a8e32e23-70f6-4260-a2c7-f4a7ebbcbbae",
   "metadata": {},
   "outputs": [],
   "source": [
    "# While exporting via mitsuba in blender check save_id option \n",
    "# Forward should be Y forward\n",
    "# Up should be Z Up\n",
    "tx = Transmitter(name = \"tx\", position = [245,-131,295]) #tv's right side wall  \n",
    "rx = Receiver(name = \"rx\", position = [-244,140,100]) #tv's left side wall\n",
    "scene.add(tx)\n",
    "scene.add(rx)\n",
    "tx.look_at(rx) # Transmitter points towards receiver"
   ]
  },
  {
   "cell_type": "code",
   "execution_count": 130,
   "id": "6487913b-c8d8-40a2-b1fe-c8c8c14164fb",
   "metadata": {},
   "outputs": [],
   "source": [
    "scene.frequency = 2.14e9 # in Hz, implicitly updates RadioMaterials\n",
    "scene.synthetic_array = True # if set to False, ray tracing will be done per antenna element (slower for larger array)"
   ]
  },
  {
   "cell_type": "code",
   "execution_count": 131,
   "id": "c742ed20-56fc-49b6-bafa-83447c680a23",
   "metadata": {},
   "outputs": [],
   "source": [
    "def matt(f_hz):\n",
    "    return (compute_relative_permittivity(f_hz), compute_conductivity(f_hz))"
   ]
  },
  {
   "cell_type": "markdown",
   "id": "7647d595-96d6-4265-8693-be5cec5d9129",
   "metadata": {},
   "source": [
    "\n",
    "<span style=\"color:yellow\">  The parameter``` max_depth ``` determines the maximum number of interactions between a ray and a scene objects </span>. For example, with a ``` max_depth ```of one, only LoS paths are considered. When the property``` scene.synthetic_array ```is set to ```False```, antenna arrays are explicitly modeled by finding paths between any pair of transmitting and receiving antennas in the scene. Otherwise, arrays are represented by a single antenna located in the center of the array. Phase shifts related to the relative antenna positions will then be applied based on a plane-wave assumption when the channel impulse responses are computed.\n",
    "<a href=\"https://nvlabs.github.io/sionna/api/rt.html#sionna.rt.Scene.compute_paths\">Compute Paths API</a>"
   ]
  },
  {
   "cell_type": "code",
   "execution_count": 132,
   "id": "97ffb38d-70a5-4561-839d-3b645e32d986",
   "metadata": {},
   "outputs": [],
   "source": [
    "paths = scene.compute_paths(max_depth=15,\n",
    "                            num_samples=1e6,scattering=True,diffraction=True) "
   ]
  },
  {
   "cell_type": "code",
   "execution_count": null,
   "id": "b4a0d9a5-d00e-4fd5-bf09-b08df4918f72",
   "metadata": {},
   "outputs": [],
   "source": [
    "scene.preview(paths, show_devices=True, show_paths=True) "
   ]
  },
  {
   "cell_type": "code",
   "execution_count": 134,
   "id": "3100b19c-d1ae-496f-8579-8e64464adc53",
   "metadata": {},
   "outputs": [
    {
     "name": "stdout",
     "output_type": "stream",
     "text": [
      "[  1  43  18 970]\n"
     ]
    }
   ],
   "source": [
    "\n",
    "# Show the types of all paths:\n",
    "# 0 - LoS, 1 - Reflected, 2 - Diffracted, 3 - Scattered\n",
    "# Note that Diffraction and scattering are turned off by default.\n",
    "path_types = np.array([0,0,0,0])\n",
    "for i in paths.types.numpy():\n",
    "    for n in i:\n",
    "        path_types[n] += 1\n",
    "print(path_types)"
   ]
  },
  {
   "cell_type": "code",
   "execution_count": 136,
   "id": "bc2b1559-db6b-4c19-a64f-223c4e14f6e9",
   "metadata": {},
   "outputs": [
    {
     "data": {
      "text/plain": [
       "TensorShape([1, 1, 2, 1, 4, 1032, 1])"
      ]
     },
     "execution_count": 136,
     "metadata": {},
     "output_type": "execute_result"
    }
   ],
   "source": [
    "paths.a.shape"
   ]
  },
  {
   "cell_type": "code",
   "execution_count": 137,
   "id": "7c506335-f9c9-412e-9451-b7fe8314c8d4",
   "metadata": {},
   "outputs": [],
   "source": [
    "# Default parameters in the PUSCHConfig\n",
    "subcarrier_spacing = 15e3\n",
    "fft_size = 48\n"
   ]
  },
  {
   "cell_type": "code",
   "execution_count": 138,
   "id": "86b301af-a684-43ab-89e9-88d7b88ee22b",
   "metadata": {},
   "outputs": [],
   "source": [
    "paths.apply_doppler(sampling_frequency=subcarrier_spacing, # Set to 15e3 Hz\n",
    "                    num_time_steps=14, # Number of OFDM symbols\n",
    "                    tx_velocities=[3.,0,0], # We can set additional tx speeds\n",
    "                    rx_velocities=[0,7.,0]) # Or rx speeds"
   ]
  },
  {
   "cell_type": "code",
   "execution_count": 139,
   "id": "fee955da-925a-44e9-9367-2cda27c329cd",
   "metadata": {},
   "outputs": [
    {
     "data": {
      "text/plain": [
       "TensorShape([1, 1, 2, 1, 4, 1032, 14])"
      ]
     },
     "execution_count": 139,
     "metadata": {},
     "output_type": "execute_result"
    }
   ],
   "source": [
    "paths.a.shape"
   ]
  },
  {
   "cell_type": "code",
   "execution_count": 140,
   "id": "a748aa4e-8e29-431d-97e3-ea47f51fdf87",
   "metadata": {},
   "outputs": [
    {
     "name": "stdout",
     "output_type": "stream",
     "text": [
      "Shape of tau:  (1, 1, 1, 1032)\n"
     ]
    }
   ],
   "source": [
    "a, tau = paths.cir()\n",
    "print(\"Shape of tau: \", tau.shape)\n"
   ]
  },
  {
   "cell_type": "code",
   "execution_count": null,
   "id": "544fa49c-5121-40d2-8113-02ce33421933",
   "metadata": {},
   "outputs": [],
   "source": [
    "t = tau[0,0,0,:]/1e-9 # Scale to ns\n",
    "a_abs = np.abs(a)[0,0,0,0,0,:,0]\n",
    "a_max = np.max(a_abs)\n",
    "# Add dummy entry at start/end for nicer figure\n",
    "t = np.concatenate([(0.,), t, (np.max(t)*1.1,)])\n",
    "a_abs = np.concatenate([(np.nan,), a_abs, (np.nan,)])\n",
    "\n",
    "# And plot the CIR\n",
    "plt.figure()\n",
    "plt.title(\"Channel impulse response realization\")\n",
    "\n",
    "plt.stem(t, a_abs)\n",
    "plt.xlim([0, np.max(t)])\n",
    "plt.ylim([-2e-6, a_max*1.1])\n",
    "plt.xlabel(r\"$\\tau$ [ns]\")\n",
    "plt.ylabel(r\"$|a|$\");"
   ]
  },
  {
   "cell_type": "code",
   "execution_count": null,
   "id": "7fc51de3-3457-48d4-88fd-c636e97a99a5",
   "metadata": {},
   "outputs": [],
   "source": []
  }
 ],
 "metadata": {
  "kernelspec": {
   "display_name": "Python 3 (ipykernel)",
   "language": "python",
   "name": "python3"
  },
  "language_info": {
   "codemirror_mode": {
    "name": "ipython",
    "version": 3
   },
   "file_extension": ".py",
   "mimetype": "text/x-python",
   "name": "python",
   "nbconvert_exporter": "python",
   "pygments_lexer": "ipython3",
   "version": "3.11.6"
  }
 },
 "nbformat": 4,
 "nbformat_minor": 5
}
